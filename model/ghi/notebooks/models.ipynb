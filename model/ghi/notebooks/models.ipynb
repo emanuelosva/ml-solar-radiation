{
 "cells": [
  {
   "cell_type": "markdown",
   "metadata": {},
   "source": [
    "# Vs models "
   ]
  },
  {
   "cell_type": "code",
   "execution_count": 1,
   "metadata": {},
   "outputs": [],
   "source": [
    "import warnings \n",
    "warnings.simplefilter('ignore')\n",
    "warnings.filterwarnings('ignore')\n",
    "\n",
    "import numpy as np\n",
    "import pandas as pd\n",
    "\n",
    "import matplotlib.pyplot as plt\n",
    "%matplotlib inline"
   ]
  },
  {
   "cell_type": "code",
   "execution_count": 2,
   "metadata": {},
   "outputs": [],
   "source": [
    "# Load data\n",
    "\n",
    "X = pd.read_csv('../data/xtrain.csv')\n",
    "y = pd.read_csv('../data/ytrain.csv')"
   ]
  },
  {
   "cell_type": "code",
   "execution_count": 3,
   "metadata": {},
   "outputs": [],
   "source": [
    "# Load best models\n",
    "\n",
    "from sklearn.linear_model import Lasso, Ridge\n",
    "from sklearn.preprocessing import StandardScaler, PolynomialFeatures\n",
    "from sklearn.preprocessing import PolynomialFeatures\n",
    "from sklearn.pipeline import make_pipeline\n",
    "from sklearn.neural_network import MLPRegressor\n",
    "from sklearn.ensemble import GradientBoostingRegressor\n",
    "from sklearn.ensemble import RandomForestRegressor\n",
    "from sklearn.experimental import enable_hist_gradient_boosting\n",
    "from sklearn.ensemble import HistGradientBoostingRegressor\n",
    "import xgboost as xgb\n",
    "\n",
    "lasso = make_pipeline(\n",
    "    StandardScaler(),\n",
    "    PolynomialFeatures(2),\n",
    "    Lasso()\n",
    ")\n",
    "ann = make_pipeline(\n",
    "    StandardScaler(),\n",
    "    PolynomialFeatures(2),\n",
    "    MLPRegressor()\n",
    ")\n",
    "\n",
    "models = {\n",
    "    'Lasso': lasso,\n",
    "    'ANN': ann,\n",
    "    'GBR': GradientBoostingRegressor(),\n",
    "    'RFR': RandomForestRegressor(),\n",
    "    'HGBR': HistGradientBoostingRegressor(),\n",
    "    'XGB': xgb.XGBRegressor()\n",
    "}"
   ]
  },
  {
   "cell_type": "code",
   "execution_count": 4,
   "metadata": {},
   "outputs": [],
   "source": [
    "# Function Evaludation\n",
    "\n",
    "from sklearn.model_selection import cross_val_score\n",
    "def cross_score(model, name, X, y):\n",
    "    \"\"\"Print the score of model\"\"\"\n",
    "\n",
    "    score = cross_val_score(\n",
    "        estimator=model,\n",
    "        X=X,\n",
    "        y=y,\n",
    "        cv=5,\n",
    "        scoring='r2'\n",
    "    )\n",
    "    print('='*100)\n",
    "    print(f'{name} ---R2 = ', score.mean())\n",
    "    print('='*100, '\\n')"
   ]
  },
  {
   "cell_type": "code",
   "execution_count": 5,
   "metadata": {},
   "outputs": [
    {
     "output_type": "stream",
     "name": "stdout",
     "text": "====================================================================================================\nLasso ---R2 =  0.8893777589945506\n==================================================================================================== \n\n====================================================================================================\nANN ---R2 =  0.9230426703240366\n==================================================================================================== \n\n====================================================================================================\nGBR ---R2 =  0.9181265727663908\n==================================================================================================== \n\n====================================================================================================\nRFR ---R2 =  0.9272778776258226\n==================================================================================================== \n\n====================================================================================================\nHGBR ---R2 =  0.9255060491047921\n==================================================================================================== \n\n====================================================================================================\nXGB ---R2 =  0.9257528280117496\n==================================================================================================== \n\n"
    }
   ],
   "source": [
    "# Evaluation\n",
    "\n",
    "for name, model in models.items():\n",
    "    cross_score(model, name, X, y)"
   ]
  },
  {
   "cell_type": "markdown",
   "metadata": {},
   "source": [
    "#### The best estimators:\n",
    "* ANN\n",
    "* RFR\n",
    "* HGBR\n",
    "* XGBR\n",
    "    "
   ]
  }
 ],
 "metadata": {
  "language_info": {
   "codemirror_mode": {
    "name": "ipython",
    "version": 3
   },
   "file_extension": ".py",
   "mimetype": "text/x-python",
   "name": "python",
   "nbconvert_exporter": "python",
   "pygments_lexer": "ipython3",
   "version": "3.7.1-final"
  },
  "orig_nbformat": 2,
  "kernelspec": {
   "name": "python37164bit3c5e1eda0ad7443d9d057e743a32b74f",
   "display_name": "Python 3.7.1 64-bit"
  }
 },
 "nbformat": 4,
 "nbformat_minor": 2
}