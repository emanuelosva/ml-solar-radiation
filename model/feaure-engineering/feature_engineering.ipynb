{
 "cells": [
  {
   "cell_type": "markdown",
   "metadata": {},
   "source": [
    "# **Enrichment Data**"
   ]
  },
  {
   "cell_type": "markdown",
   "metadata": {},
   "source": [
    "## Add:\n",
    "* Solar position variables\n",
    "* Theorical auxilar functions for other models"
   ]
  },
  {
   "cell_type": "code",
   "execution_count": 1,
   "metadata": {},
   "outputs": [],
   "source": [
    "# Warnings\n",
    "import warnings\n",
    "warnings.filterwarnings('ignore')\n",
    "warnings.simplefilter('ignore')\n",
    "# For data science\n",
    "import numpy as np\n",
    "import pandas as pd\n",
    "import matplotlib.pyplot as plt\n",
    "%matplotlib inline"
   ]
  },
  {
   "cell_type": "markdown",
   "metadata": {},
   "source": [
    "## **Get True Local-Time**"
   ]
  },
  {
   "cell_type": "code",
   "execution_count": 2,
   "metadata": {},
   "outputs": [
    {
     "name": "stdout",
     "output_type": "stream",
     "text": [
      "Number of missing data: 0\n",
      "\n"
     ]
    },
    {
     "data": {
      "text/html": [
       "<div>\n",
       "<style scoped>\n",
       "    .dataframe tbody tr th:only-of-type {\n",
       "        vertical-align: middle;\n",
       "    }\n",
       "\n",
       "    .dataframe tbody tr th {\n",
       "        vertical-align: top;\n",
       "    }\n",
       "\n",
       "    .dataframe thead th {\n",
       "        text-align: right;\n",
       "    }\n",
       "</style>\n",
       "<table border=\"1\" class=\"dataframe\">\n",
       "  <thead>\n",
       "    <tr style=\"text-align: right;\">\n",
       "      <th></th>\n",
       "      <th>Date</th>\n",
       "      <th>Lat</th>\n",
       "      <th>Lon</th>\n",
       "      <th>Alt</th>\n",
       "      <th>SP</th>\n",
       "      <th>RH</th>\n",
       "      <th>WS10m</th>\n",
       "      <th>WD10m</th>\n",
       "      <th>T2m</th>\n",
       "    </tr>\n",
       "  </thead>\n",
       "  <tbody>\n",
       "    <tr>\n",
       "      <th>0</th>\n",
       "      <td>2009-12-31 18:00:00</td>\n",
       "      <td>18.0</td>\n",
       "      <td>-100.0</td>\n",
       "      <td>787.0</td>\n",
       "      <td>92229.0</td>\n",
       "      <td>56.84</td>\n",
       "      <td>1.98</td>\n",
       "      <td>197.0</td>\n",
       "      <td>24.24</td>\n",
       "    </tr>\n",
       "  </tbody>\n",
       "</table>\n",
       "</div>"
      ],
      "text/plain": [
       "                  Date   Lat    Lon    Alt       SP     RH  WS10m  WD10m  \\\n",
       "0  2009-12-31 18:00:00  18.0 -100.0  787.0  92229.0  56.84   1.98  197.0   \n",
       "\n",
       "     T2m  \n",
       "0  24.24  "
      ]
     },
     "execution_count": 2,
     "metadata": {},
     "output_type": "execute_result"
    }
   ],
   "source": [
    "# Load solar data\n",
    "df = pd.read_csv('../data/solar_data.csv')\n",
    "\n",
    "# Only features\n",
    "df.drop(['G(h)', 'Gb(n)', 'Gd(h)', 'IR(h)','Month','Day', 'NumDay', 'Hour'], \n",
    "        axis=1, inplace=True)\n",
    "\n",
    "print(f'Number of missing data: {df.isna().sum().sum()}\\n')\n",
    "df.head(1)"
   ]
  },
  {
   "cell_type": "markdown",
   "metadata": {},
   "source": [
    "### Create the time zone and DatetimeIndex"
   ]
  },
  {
   "cell_type": "code",
   "execution_count": 3,
   "metadata": {},
   "outputs": [],
   "source": [
    "# For search Timezone from lat and lon\n",
    "from tzwhere import tzwhere\n",
    "tz = tzwhere.tzwhere()\n",
    "\n",
    "time_zones = []\n",
    "for i in range(len(df.Lat.values)):\n",
    "    time_zone = tz.tzNameAt(df.Lat[i], df.Lon[i])\n",
    "    time_zones.append(time_zone)\n",
    "\n",
    "df['Time_zone'] = time_zones"
   ]
  },
  {
   "cell_type": "code",
   "execution_count": 4,
   "metadata": {},
   "outputs": [],
   "source": [
    "# Get the correct time (from: minig_solar_info/manage_objects.py)\n",
    "\n",
    "from math import trunc\n",
    "correction_time = []\n",
    "for i in range(len(df.Date)):\n",
    "    correction = trunc(-df.Lon[i] / 15)\n",
    "    correction = np.timedelta64(correction, 'h')\n",
    "    correction_time.append(correction)"
   ]
  },
  {
   "cell_type": "markdown",
   "metadata": {},
   "source": [
    "### Get the real local time according to time zone"
   ]
  },
  {
   "cell_type": "code",
   "execution_count": 6,
   "metadata": {},
   "outputs": [],
   "source": [
    "# Convert to UTC-time again\n",
    "time_utc = []\n",
    "for i in range(len(df.Date)):\n",
    "    utc = np.array((df.Date[i]), dtype='datetime64[h]') + correction_time[i]\n",
    "    time_utc.append(utc)\n",
    "    \n",
    "df['Time_utc'] = np.array(time_utc)\n",
    "\n",
    "# Localize hour how UTC-time\n",
    "date_utc = df['Time_utc'].dt.tz_localize('UTC')\n",
    "\n",
    "# Convert to real time\n",
    "df['Local_time'] = date_utc.dt.tz_convert(df.Time_zone.values.all())"
   ]
  },
  {
   "cell_type": "code",
   "execution_count": 7,
   "metadata": {},
   "outputs": [
    {
     "data": {
      "text/html": [
       "<div>\n",
       "<style scoped>\n",
       "    .dataframe tbody tr th:only-of-type {\n",
       "        vertical-align: middle;\n",
       "    }\n",
       "\n",
       "    .dataframe tbody tr th {\n",
       "        vertical-align: top;\n",
       "    }\n",
       "\n",
       "    .dataframe thead th {\n",
       "        text-align: right;\n",
       "    }\n",
       "</style>\n",
       "<table border=\"1\" class=\"dataframe\">\n",
       "  <thead>\n",
       "    <tr style=\"text-align: right;\">\n",
       "      <th></th>\n",
       "      <th>Date</th>\n",
       "      <th>Lat</th>\n",
       "      <th>Lon</th>\n",
       "      <th>Alt</th>\n",
       "      <th>SP</th>\n",
       "      <th>RH</th>\n",
       "      <th>WS10m</th>\n",
       "      <th>WD10m</th>\n",
       "      <th>T2m</th>\n",
       "      <th>Time_zone</th>\n",
       "      <th>Time_utc</th>\n",
       "      <th>Local_time</th>\n",
       "    </tr>\n",
       "  </thead>\n",
       "  <tbody>\n",
       "    <tr>\n",
       "      <th>0</th>\n",
       "      <td>2009-12-31 18:00:00</td>\n",
       "      <td>18.0</td>\n",
       "      <td>-100.0</td>\n",
       "      <td>787.0</td>\n",
       "      <td>92229.0</td>\n",
       "      <td>56.84</td>\n",
       "      <td>1.98</td>\n",
       "      <td>197.0</td>\n",
       "      <td>24.24</td>\n",
       "      <td>America/Mexico_City</td>\n",
       "      <td>2010-01-01</td>\n",
       "      <td>2009-12-31 18:00:00-06:00</td>\n",
       "    </tr>\n",
       "  </tbody>\n",
       "</table>\n",
       "</div>"
      ],
      "text/plain": [
       "                  Date   Lat    Lon    Alt       SP     RH  WS10m  WD10m  \\\n",
       "0  2009-12-31 18:00:00  18.0 -100.0  787.0  92229.0  56.84   1.98  197.0   \n",
       "\n",
       "     T2m            Time_zone   Time_utc                Local_time  \n",
       "0  24.24  America/Mexico_City 2010-01-01 2009-12-31 18:00:00-06:00  "
      ]
     },
     "execution_count": 7,
     "metadata": {},
     "output_type": "execute_result"
    }
   ],
   "source": [
    "df.head(1)"
   ]
  },
  {
   "cell_type": "markdown",
   "metadata": {},
   "source": [
    "## **Solar Position and Methorological Data**"
   ]
  },
  {
   "cell_type": "code",
   "execution_count": 8,
   "metadata": {},
   "outputs": [],
   "source": [
    "# Solar position functions\n",
    "import pvlib as pv"
   ]
  },
  {
   "cell_type": "markdown",
   "metadata": {},
   "source": [
    "### Get solar position Variables"
   ]
  },
  {
   "cell_type": "code",
   "execution_count": 9,
   "metadata": {},
   "outputs": [],
   "source": [
    "time = pd.pandas.DatetimeIndex(df['Local_time'])\n",
    "\n",
    "solar_position = pv.solarposition.get_solarposition(time,\n",
    "                                                    df.Lat.values,\n",
    "                                                    df.Lon.values,\n",
    "                                                    altitude=df.Alt.values, \n",
    "                                                    pressure=df.SP.values,\n",
    "                                                    method='nrel_numpy',\n",
    "                                                    temperature=df.T2m)"
   ]
  },
  {
   "cell_type": "code",
   "execution_count": 10,
   "metadata": {},
   "outputs": [
    {
     "data": {
      "text/html": [
       "<div>\n",
       "<style scoped>\n",
       "    .dataframe tbody tr th:only-of-type {\n",
       "        vertical-align: middle;\n",
       "    }\n",
       "\n",
       "    .dataframe tbody tr th {\n",
       "        vertical-align: top;\n",
       "    }\n",
       "\n",
       "    .dataframe thead th {\n",
       "        text-align: right;\n",
       "    }\n",
       "</style>\n",
       "<table border=\"1\" class=\"dataframe\">\n",
       "  <thead>\n",
       "    <tr style=\"text-align: right;\">\n",
       "      <th></th>\n",
       "      <th>apparent_zenith</th>\n",
       "      <th>zenith</th>\n",
       "      <th>apparent_elevation</th>\n",
       "      <th>elevation</th>\n",
       "      <th>azimuth</th>\n",
       "      <th>equation_of_time</th>\n",
       "    </tr>\n",
       "    <tr>\n",
       "      <th>Local_time</th>\n",
       "      <th></th>\n",
       "      <th></th>\n",
       "      <th></th>\n",
       "      <th></th>\n",
       "      <th></th>\n",
       "      <th></th>\n",
       "    </tr>\n",
       "  </thead>\n",
       "  <tbody>\n",
       "    <tr>\n",
       "      <th>2009-12-31 18:00:00-06:00</th>\n",
       "      <td>87.288419</td>\n",
       "      <td>87.508232</td>\n",
       "      <td>2.711581</td>\n",
       "      <td>2.491768</td>\n",
       "      <td>244.795929</td>\n",
       "      <td>-3.299708</td>\n",
       "    </tr>\n",
       "  </tbody>\n",
       "</table>\n",
       "</div>"
      ],
      "text/plain": [
       "                           apparent_zenith     zenith  apparent_elevation  \\\n",
       "Local_time                                                                  \n",
       "2009-12-31 18:00:00-06:00        87.288419  87.508232            2.711581   \n",
       "\n",
       "                           elevation     azimuth  equation_of_time  \n",
       "Local_time                                                          \n",
       "2009-12-31 18:00:00-06:00   2.491768  244.795929         -3.299708  "
      ]
     },
     "execution_count": 10,
     "metadata": {},
     "output_type": "execute_result"
    }
   ],
   "source": [
    "solar_position.head(1)"
   ]
  },
  {
   "cell_type": "markdown",
   "metadata": {},
   "source": [
    "### Get metheorologycal data"
   ]
  },
  {
   "cell_type": "code",
   "execution_count": 11,
   "metadata": {},
   "outputs": [
    {
     "name": "stdout",
     "output_type": "stream",
     "text": [
      "% Accuracy range: 49.378870168914695\n"
     ]
    }
   ],
   "source": [
    "# Precipitable water by Gueymard equation\n",
    "df['Precipitable_water'] = pv.atmosphere.gueymard94_pw(df.T2m, df.RH)\n",
    "\n",
    "# Percentage of date in accuracy range\n",
    "mask = ((df.Precipitable_water >= 1) & (df.Precipitable_water <= 3))\n",
    "accuracy_values = df['Precipitable_water'][mask].value_counts().sum()\n",
    "total_values = len(df['Precipitable_water'])\n",
    "print(f'% Accuracy range: {accuracy_values/total_values*100}')"
   ]
  },
  {
   "cell_type": "code",
   "execution_count": 12,
   "metadata": {},
   "outputs": [],
   "source": [
    "# Linke turbidity\n",
    "\n",
    "# Separition DatetimeIndex by place\n",
    "lat , lon = df.Lat[1], df.Lon[1]\n",
    "loc = (lat, lon)\n",
    "locations = [loc]\n",
    "for i in range(len(df.Lat.values)):\n",
    "    if loc == (df.Lat[i], df.Lon[i]):\n",
    "        pass\n",
    "    else:\n",
    "        loc = (df.Lat[i], df.Lon[i])\n",
    "        locations.append(loc)\n",
    "\n",
    "# Get the Linke turbidity\n",
    "linke_turbidity = []\n",
    "for loc in locations:\n",
    "    mask = ( (df.Lat == loc[0]) & (df.Lon == loc[1]) )\n",
    "    time = pd.DatetimeIndex(df['Local_time'][mask])\n",
    "    lt = pv.clearsky.lookup_linke_turbidity(time, loc[0], loc[1])\n",
    "    linke_turbidity.append(lt)\n",
    "    \n",
    "# Load with all data\n",
    "linke_turbidity = np.array(linke_turbidity).reshape(df.shape[0],)\n",
    "df['Linke_turbidity'] = linke_turbidity"
   ]
  },
  {
   "cell_type": "markdown",
   "metadata": {},
   "source": [
    "### Get irradiance variables"
   ]
  },
  {
   "cell_type": "code",
   "execution_count": 13,
   "metadata": {},
   "outputs": [],
   "source": [
    "# Extraterrestial radiation\n",
    "dayof_year = df['Local_time'].dt.dayofyear\n",
    "df['Extra_radiation'] = pv.irradiance.get_extra_radiation(dayof_year)"
   ]
  },
  {
   "cell_type": "markdown",
   "metadata": {},
   "source": [
    "### **Re-form**"
   ]
  },
  {
   "cell_type": "code",
   "execution_count": 14,
   "metadata": {},
   "outputs": [
    {
     "data": {
      "text/html": [
       "<div>\n",
       "<style scoped>\n",
       "    .dataframe tbody tr th:only-of-type {\n",
       "        vertical-align: middle;\n",
       "    }\n",
       "\n",
       "    .dataframe tbody tr th {\n",
       "        vertical-align: top;\n",
       "    }\n",
       "\n",
       "    .dataframe thead th {\n",
       "        text-align: right;\n",
       "    }\n",
       "</style>\n",
       "<table border=\"1\" class=\"dataframe\">\n",
       "  <thead>\n",
       "    <tr style=\"text-align: right;\">\n",
       "      <th></th>\n",
       "      <th>Date</th>\n",
       "      <th>Lat</th>\n",
       "      <th>Lon</th>\n",
       "      <th>Alt</th>\n",
       "      <th>SP</th>\n",
       "      <th>RH</th>\n",
       "      <th>WS10m</th>\n",
       "      <th>WD10m</th>\n",
       "      <th>T2m</th>\n",
       "      <th>Time_zone</th>\n",
       "      <th>Time_utc</th>\n",
       "      <th>Local_time</th>\n",
       "      <th>Precipitable_water</th>\n",
       "      <th>Linke_turbidity</th>\n",
       "      <th>Extra_radiation</th>\n",
       "    </tr>\n",
       "  </thead>\n",
       "  <tbody>\n",
       "    <tr>\n",
       "      <th>0</th>\n",
       "      <td>2009-12-31 18:00:00</td>\n",
       "      <td>18.0</td>\n",
       "      <td>-100.0</td>\n",
       "      <td>787.0</td>\n",
       "      <td>92229.0</td>\n",
       "      <td>56.84</td>\n",
       "      <td>1.98</td>\n",
       "      <td>197.0</td>\n",
       "      <td>24.24</td>\n",
       "      <td>America/Mexico_City</td>\n",
       "      <td>2010-01-01</td>\n",
       "      <td>2009-12-31 18:00:00-06:00</td>\n",
       "      <td>2.726047</td>\n",
       "      <td>3.675</td>\n",
       "      <td>1413.940576</td>\n",
       "    </tr>\n",
       "  </tbody>\n",
       "</table>\n",
       "</div>"
      ],
      "text/plain": [
       "                  Date   Lat    Lon    Alt       SP     RH  WS10m  WD10m  \\\n",
       "0  2009-12-31 18:00:00  18.0 -100.0  787.0  92229.0  56.84   1.98  197.0   \n",
       "\n",
       "     T2m            Time_zone   Time_utc                Local_time  \\\n",
       "0  24.24  America/Mexico_City 2010-01-01 2009-12-31 18:00:00-06:00   \n",
       "\n",
       "   Precipitable_water  Linke_turbidity  Extra_radiation  \n",
       "0            2.726047            3.675      1413.940576  "
      ]
     },
     "execution_count": 14,
     "metadata": {},
     "output_type": "execute_result"
    }
   ],
   "source": [
    "# Visualization\n",
    "df.head(1)"
   ]
  },
  {
   "cell_type": "code",
   "execution_count": 16,
   "metadata": {},
   "outputs": [],
   "source": [
    "# Get Date data\n",
    "solar = pd.DataFrame()\n",
    "solar['TimeUtc'] = df['Time_utc']\n",
    "solar['TimeZone'] = df['Time_zone']\n",
    "solar['LocalTime'] = df['Local_time']\n",
    "\n",
    "# Create a variables to isolate time\n",
    "solar['Year'] = solar['LocalTime'].dt.year\n",
    "solar['MonthOfYear'] = solar['LocalTime'].dt.month\n",
    "solar['WeekOfYear'] = solar['LocalTime'].dt.week\n",
    "solar['DayOfYear'] = solar['LocalTime'].dt.dayofyear\n",
    "solar['HourOfDay'] = solar['LocalTime'].dt.hour\n",
    "\n",
    "# Geografical Variables\n",
    "solar['Latitude'] = df.Lat.values\n",
    "solar['Longitude'] = df.Lon.values\n",
    "solar['Altitude'] = df.Alt.values\n",
    "\n",
    "# Solar position\n",
    "cols = solar_position.columns[:-1]\n",
    "solar['ApparentZenith'] = solar_position[cols[0]].values\n",
    "solar['Zenith'] = solar_position[cols[1]].values\n",
    "solar['ApparentElevation'] = solar_position[cols[2]].values\n",
    "solar['Elevation'] = solar_position[cols[3]].values\n",
    "solar['Azimuth'] = solar_position[cols[4]].values\n",
    "\n",
    "# Climatologycal data\n",
    "solar['Temperature'] = df.T2m.values\n",
    "solar['Pressure'] = df.SP.values\n",
    "solar['Humidity'] = df.RH.values\n",
    "solar['LinkeTurbidity'] = df.Linke_turbidity.values\n",
    "solar['PrecipitableWater'] = df.Precipitable_water.values\n",
    "solar['WindSpeed'] = df.WS10m.values\n",
    "solar['WindDirection'] = df.WD10m.values\n",
    "\n",
    "# Radiation data\n",
    "solar['ExtraRadiation'] = df.Extra_radiation.values"
   ]
  },
  {
   "cell_type": "code",
   "execution_count": 17,
   "metadata": {},
   "outputs": [],
   "source": [
    "# Complete and Save\n",
    "\n",
    "df = pd.read_csv('../data/solar_data.csv')\n",
    "solar['GHI'] = df['G(h)'].values\n",
    "solar['DNI'] = df['Gb(n)'].values\n",
    "solar['DHI'] = df['Gd(h)'].values"
   ]
  },
  {
   "cell_type": "code",
   "execution_count": 19,
   "metadata": {},
   "outputs": [],
   "source": [
    "solar.to_csv('../data/solar.csv', index=False, encoding='utf-8')"
   ]
  },
  {
   "cell_type": "code",
   "execution_count": null,
   "metadata": {},
   "outputs": [],
   "source": []
  }
 ],
 "metadata": {
  "kernelspec": {
   "display_name": "Python 3",
   "language": "python",
   "name": "python3"
  },
  "language_info": {
   "codemirror_mode": {
    "name": "ipython",
    "version": 3
   },
   "file_extension": ".py",
   "mimetype": "text/x-python",
   "name": "python",
   "nbconvert_exporter": "python",
   "pygments_lexer": "ipython3",
   "version": "3.7.1"
  }
 },
 "nbformat": 4,
 "nbformat_minor": 4
}
