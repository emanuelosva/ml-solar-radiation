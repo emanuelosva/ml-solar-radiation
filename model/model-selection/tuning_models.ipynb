{
 "nbformat": 4,
 "nbformat_minor": 2,
 "metadata": {
  "language_info": {
   "name": "python",
   "codemirror_mode": {
    "name": "ipython",
    "version": 3
   },
   "version": "3.7.1-final"
  },
  "orig_nbformat": 2,
  "file_extension": ".py",
  "mimetype": "text/x-python",
  "name": "python",
  "npconvert_exporter": "python",
  "pygments_lexer": "ipython3",
  "version": 3,
  "kernelspec": {
   "name": "python37164bit3c5e1eda0ad7443d9d057e743a32b74f",
   "display_name": "Python 3.7.1 64-bit"
  }
 },
 "cells": [
  {
   "cell_type": "code",
   "execution_count": 7,
   "metadata": {},
   "outputs": [],
   "source": [
    "# Ignore warnings\n",
    "import warnings\n",
    "warnings.filterwarnings('ignore')\n",
    "warnings.simplefilter('ignore')"
   ]
  },
  {
   "cell_type": "code",
   "execution_count": 11,
   "metadata": {},
   "outputs": [],
   "source": [
    "# Utilities\n",
    "import pandas as pd\n",
    "import numpy as np\n",
    "import seaborn as sns\n",
    "import matplotlib.pyplot as plt\n",
    "%matplotlib inline\n",
    "\n",
    "# Get best models (detrmined by analisys\n",
    "from sklearn.ensemble import GradientBoostingRegressor\n",
    "from sklearn.ensemble import RandomForestRegressor\n",
    "from xgboost import XGBRegressor\n",
    "\n",
    "# Metrics\n",
    "from sklearn.model_selection import cross_validate"
   ]
  },
  {
   "cell_type": "code",
   "execution_count": 9,
   "metadata": {},
   "outputs": [],
   "source": [
    "# Load data\n",
    "df = pd.read_csv('../data/ghi.csv')\n",
    "y = df['GHI']\n",
    "X = df.drop('GHI', axis=1)"
   ]
  },
  {
   "cell_type": "code",
   "execution_count": 12,
   "metadata": {},
   "outputs": [],
   "source": [
    "# Simple comparison\n",
    "models = {\n",
    "    'GBRegressor': GradientBoostingRegressor(),\n",
    "    'RFRegressor': RandomForestRegressor(),\n",
    "    'XGBRegressor': XGBRegressor(),\n",
    "}\n",
    "\n",
    "socres = []\n",
    "for name, model in models.items():\n",
    "    score = cross_validate(model, X, y, \n",
    "                           scoring=('r2', 'neg_mean_squared_error'),\n",
    "                           cv=5, return_train_score=True,\n",
    "                           return_estimator=True)\n",
    "\n",
    "    socres.append(score)"
   ]
  },
  {
   "cell_type": "code",
   "execution_count": 9,
   "metadata": {},
   "outputs": [
    {
     "name": "stdout",
     "output_type": "stream",
     "text": "==================================================\nGBReg \nBest parameters: \n {'alpha': 0.6, 'max_depth': 4, 'n_estimators': 90}\nScore: 0.9480\n"
    },
    {
     "ename": "TypeError",
     "evalue": "predict() takes 2 positional arguments but 3 were given",
     "output_type": "error",
     "traceback": [
      "\u001b[1;31m---------------------------------------------------------------------------\u001b[0m",
      "\u001b[1;31mTypeError\u001b[0m                                 Traceback (most recent call last)",
      "\u001b[1;32m<ipython-input-9-acb0d5a5d009>\u001b[0m in \u001b[0;36m<module>\u001b[1;34m\u001b[0m\n\u001b[0;32m      9\u001b[0m     \u001b[0mprint\u001b[0m\u001b[1;33m(\u001b[0m\u001b[0mname\u001b[0m\u001b[1;33m,\u001b[0m \u001b[1;34m'\\nBest parameters: \\n'\u001b[0m\u001b[1;33m,\u001b[0m \u001b[0mbest\u001b[0m\u001b[1;33m.\u001b[0m\u001b[0mbest_params_\u001b[0m\u001b[1;33m)\u001b[0m\u001b[1;33m\u001b[0m\u001b[1;33m\u001b[0m\u001b[0m\n\u001b[0;32m     10\u001b[0m     \u001b[0mprint\u001b[0m\u001b[1;33m(\u001b[0m\u001b[1;34m'Score: {:0.4f}'\u001b[0m\u001b[1;33m.\u001b[0m\u001b[0mformat\u001b[0m\u001b[1;33m(\u001b[0m\u001b[0mbest\u001b[0m\u001b[1;33m.\u001b[0m\u001b[0mbest_score_\u001b[0m\u001b[1;33m)\u001b[0m\u001b[1;33m)\u001b[0m\u001b[1;33m\u001b[0m\u001b[1;33m\u001b[0m\u001b[0m\n\u001b[1;32m---> 11\u001b[1;33m     \u001b[0my_pred\u001b[0m \u001b[1;33m=\u001b[0m \u001b[0mbest\u001b[0m\u001b[1;33m.\u001b[0m\u001b[0mbest_estimator_\u001b[0m\u001b[1;33m.\u001b[0m\u001b[0mpredict\u001b[0m\u001b[1;33m(\u001b[0m\u001b[0mX_loc\u001b[0m\u001b[1;33m,\u001b[0m \u001b[0my_loc\u001b[0m\u001b[1;33m)\u001b[0m\u001b[1;33m\u001b[0m\u001b[1;33m\u001b[0m\u001b[0m\n\u001b[0m\u001b[0;32m     12\u001b[0m \u001b[1;33m\u001b[0m\u001b[0m\n\u001b[0;32m     13\u001b[0m     \u001b[1;31m# Visualization\u001b[0m\u001b[1;33m\u001b[0m\u001b[1;33m\u001b[0m\u001b[1;33m\u001b[0m\u001b[0m\n",
      "\u001b[1;31mTypeError\u001b[0m: predict() takes 2 positional arguments but 3 were given"
     ]
    }
   ],
   "source": [
    "# Auxiliar function for visualization results\n",
    "\n",
    "# Visualization plot performance\n",
    "def plot_performance(y_pred, y_test, name, score):\n",
    "    \"\"\"Return the dispersion performance plot\"\"\"\n",
    "\n",
    "    plt.plot(y_tes, y_test, 'k--', lw=0.5, c='darkorange')\n",
    "    plt.scatter(y_test, y_test, c='skyblue', label=f'Predicted (R2:{score})')\n",
    "    plt.title(f'Performance plot: {name}', fontsize=20)\n",
    "    plt.legend()\n",
    "    plt.tight_layout()\n",
    "    plt.xlabel('True data')\n",
    "    plt.ylabel('Predicted data')\n",
    "    plt.show()\n",
    "\n",
    "# Get scores\n",
    "def get_scores(score):\n",
    "    \"\"\"Return the escores for test and train\"\"\"\n",
    "\n",
    "    train_info = (score['train_r2'].mean(),\n",
    "                  np.abs(score['train_neg_mean_squared_error'].mean()))\n",
    "    test_info = (score['test_r2'].mean(),\n",
    "                  np.abs(score['test_neg_mean_squared_error'].mean()))\n",
    "    fit_time = score['fit_time'].mean()\n",
    "\n",
    "    return (train_info, test_info, fit_time)\n",
    "\n",
    "# Predict target for performance plot\n",
    "def predict_target(score, X):\n",
    "    \"\"\"Return the y prediction\"\"\"\n",
    "    predictions = [] \n",
    "    for estimator in score:\n",
    "        y_pred = estimator.predict(X)\n",
    "        predictions.append(y_pred)\n",
    "\n",
    "    predictions = np.asarray(predictions)\n",
    "\n",
    "    return np.mean(predictions)\n",
    "\n",
    "# Report permormance\n",
    "def report(score, X, name):\n",
    "    \"\"\"Create a mini report for each model\"\"\"\n",
    "    info = get_scores(score)"
   ]
  },
  {
   "cell_type": "code",
   "execution_count": 14,
   "metadata": {},
   "outputs": [
    {
     "data": {
      "text/plain": "[{'fit_time': array([83.90369487, 82.95475388, 82.57209229, 84.33421683, 82.77973557]),\n  'score_time': array([0.07717276, 0.07384276, 0.07582998, 0.07576752, 0.07200003]),\n  'estimator': (GradientBoostingRegressor(alpha=0.9, ccp_alpha=0.0, criterion='friedman_mse',\n                             init=None, learning_rate=0.1, loss='ls', max_depth=3,\n                             max_features=None, max_leaf_nodes=None,\n                             min_impurity_decrease=0.0, min_impurity_split=None,\n                             min_samples_leaf=1, min_samples_split=2,\n                             min_weight_fraction_leaf=0.0, n_estimators=100,\n                             n_iter_no_change=None, presort='deprecated',\n                             random_state=None, subsample=1.0, tol=0.0001,\n                             validation_fraction=0.1, verbose=0, warm_start=False),\n   GradientBoostingRegressor(alpha=0.9, ccp_alpha=0.0, criterion='friedman_mse',\n                             init=None, learning_rate=0.1, loss='ls', max_depth=3,\n                             max_features=None, max_leaf_nodes=None,\n                             min_impurity_decrease=0.0, min_impurity_split=None,\n                             min_samples_leaf=1, min_samples_split=2,\n                             min_weight_fraction_leaf=0.0, n_estimators=100,\n                             n_iter_no_change=None, presort='deprecated',\n                             random_state=None, subsample=1.0, tol=0.0001,\n                             validation_fraction=0.1, verbose=0, warm_start=False),\n   GradientBoostingRegressor(alpha=0.9, ccp_alpha=0.0, criterion='friedman_mse',\n                             init=None, learning_rate=0.1, loss='ls', max_depth=3,\n                             max_features=None, max_leaf_nodes=None,\n                             min_impurity_decrease=0.0, min_impurity_split=None,\n                             min_samples_leaf=1, min_samples_split=2,\n                             min_weight_fraction_leaf=0.0, n_estimators=100,\n                             n_iter_no_change=None, presort='deprecated',\n                             random_state=None, subsample=1.0, tol=0.0001,\n                             validation_fraction=0.1, verbose=0, warm_start=False),\n   GradientBoostingRegressor(alpha=0.9, ccp_alpha=0.0, criterion='friedman_mse',\n                             init=None, learning_rate=0.1, loss='ls', max_depth=3,\n                             max_features=None, max_leaf_nodes=None,\n                             min_impurity_decrease=0.0, min_impurity_split=None,\n                             min_samples_leaf=1, min_samples_split=2,\n                             min_weight_fraction_leaf=0.0, n_estimators=100,\n                             n_iter_no_change=None, presort='deprecated',\n                             random_state=None, subsample=1.0, tol=0.0001,\n                             validation_fraction=0.1, verbose=0, warm_start=False),\n   GradientBoostingRegressor(alpha=0.9, ccp_alpha=0.0, criterion='friedman_mse',\n                             init=None, learning_rate=0.1, loss='ls', max_depth=3,\n                             max_features=None, max_leaf_nodes=None,\n                             min_impurity_decrease=0.0, min_impurity_split=None,\n                             min_samples_leaf=1, min_samples_split=2,\n                             min_weight_fraction_leaf=0.0, n_estimators=100,\n                             n_iter_no_change=None, presort='deprecated',\n                             random_state=None, subsample=1.0, tol=0.0001,\n                             validation_fraction=0.1, verbose=0, warm_start=False)),\n  'test_r2': array([0.93423159, 0.92215495, 0.90480765, 0.90573826, 0.90789228]),\n  'train_r2': array([0.91459808, 0.91758447, 0.92149639, 0.92101106, 0.9209809 ]),\n  'test_neg_mean_squared_error': array([ -7291.1143027 ,  -8638.28587624, -10026.35164613,  -9532.19225749,\n          -9378.96023086]),\n  'train_neg_mean_squared_error': array([-8954.35808639, -8638.20594747, -8340.5895325 , -8474.20385994,\n         -8463.36261226])},\n {'fit_time': array([219.44957638, 216.81130719, 218.47484231, 214.15907145,\n         218.06026149]),\n  'score_time': array([1.34946179, 1.30425024, 1.38573742, 1.3468709 , 1.32544017]),\n  'estimator': (RandomForestRegressor(bootstrap=True, ccp_alpha=0.0, criterion='mse',\n                         max_depth=None, max_features='auto', max_leaf_nodes=None,\n                         max_samples=None, min_impurity_decrease=0.0,\n                         min_impurity_split=None, min_samples_leaf=1,\n                         min_samples_split=2, min_weight_fraction_leaf=0.0,\n                         n_estimators=100, n_jobs=None, oob_score=False,\n                         random_state=None, verbose=0, warm_start=False),\n   RandomForestRegressor(bootstrap=True, ccp_alpha=0.0, criterion='mse',\n                         max_depth=None, max_features='auto', max_leaf_nodes=None,\n                         max_samples=None, min_impurity_decrease=0.0,\n                         min_impurity_split=None, min_samples_leaf=1,\n                         min_samples_split=2, min_weight_fraction_leaf=0.0,\n                         n_estimators=100, n_jobs=None, oob_score=False,\n                         random_state=None, verbose=0, warm_start=False),\n   RandomForestRegressor(bootstrap=True, ccp_alpha=0.0, criterion='mse',\n                         max_depth=None, max_features='auto', max_leaf_nodes=None,\n                         max_samples=None, min_impurity_decrease=0.0,\n                         min_impurity_split=None, min_samples_leaf=1,\n                         min_samples_split=2, min_weight_fraction_leaf=0.0,\n                         n_estimators=100, n_jobs=None, oob_score=False,\n                         random_state=None, verbose=0, warm_start=False),\n   RandomForestRegressor(bootstrap=True, ccp_alpha=0.0, criterion='mse',\n                         max_depth=None, max_features='auto', max_leaf_nodes=None,\n                         max_samples=None, min_impurity_decrease=0.0,\n                         min_impurity_split=None, min_samples_leaf=1,\n                         min_samples_split=2, min_weight_fraction_leaf=0.0,\n                         n_estimators=100, n_jobs=None, oob_score=False,\n                         random_state=None, verbose=0, warm_start=False),\n   RandomForestRegressor(bootstrap=True, ccp_alpha=0.0, criterion='mse',\n                         max_depth=None, max_features='auto', max_leaf_nodes=None,\n                         max_samples=None, min_impurity_decrease=0.0,\n                         min_impurity_split=None, min_samples_leaf=1,\n                         min_samples_split=2, min_weight_fraction_leaf=0.0,\n                         n_estimators=100, n_jobs=None, oob_score=False,\n                         random_state=None, verbose=0, warm_start=False)),\n  'test_r2': array([0.93157767, 0.91724924, 0.9017672 , 0.90586956, 0.90955932]),\n  'train_r2': array([0.98949185, 0.98983838, 0.99030356, 0.99015618, 0.99024801]),\n  'test_neg_mean_squared_error': array([ -7585.32945306,  -9182.66169021, -10346.59398903,  -9518.91424114,\n          -9209.21229192]),\n  'train_neg_mean_squared_error': array([-1101.77535669, -1065.06826359, -1030.19464953, -1056.07836789,\n         -1044.4896297 ])},\n {'fit_time': array([20.46236086, 20.76445317, 20.05523753, 20.42906761, 19.93719172]),\n  'score_time': array([0.11849403, 0.09644794, 0.09992671, 0.09293771, 0.12423539]),\n  'estimator': (XGBRegressor(base_score=0.5, booster=None, colsample_bylevel=1,\n                colsample_bynode=1, colsample_bytree=1, gamma=0, gpu_id=-1,\n                importance_type='gain', interaction_constraints=None,\n                learning_rate=0.300000012, max_delta_step=0, max_depth=6,\n                min_child_weight=1, missing=nan, monotone_constraints=None,\n                n_estimators=100, n_jobs=0, num_parallel_tree=1,\n                objective='reg:squarederror', random_state=0, reg_alpha=0,\n                reg_lambda=1, scale_pos_weight=1, subsample=1, tree_method=None,\n                validate_parameters=False, verbosity=None),\n   XGBRegressor(base_score=0.5, booster=None, colsample_bylevel=1,\n                colsample_bynode=1, colsample_bytree=1, gamma=0, gpu_id=-1,\n                importance_type='gain', interaction_constraints=None,\n                learning_rate=0.300000012, max_delta_step=0, max_depth=6,\n                min_child_weight=1, missing=nan, monotone_constraints=None,\n                n_estimators=100, n_jobs=0, num_parallel_tree=1,\n                objective='reg:squarederror', random_state=0, reg_alpha=0,\n                reg_lambda=1, scale_pos_weight=1, subsample=1, tree_method=None,\n                validate_parameters=False, verbosity=None),\n   XGBRegressor(base_score=0.5, booster=None, colsample_bylevel=1,\n                colsample_bynode=1, colsample_bytree=1, gamma=0, gpu_id=-1,\n                importance_type='gain', interaction_constraints=None,\n                learning_rate=0.300000012, max_delta_step=0, max_depth=6,\n                min_child_weight=1, missing=nan, monotone_constraints=None,\n                n_estimators=100, n_jobs=0, num_parallel_tree=1,\n                objective='reg:squarederror', random_state=0, reg_alpha=0,\n                reg_lambda=1, scale_pos_weight=1, subsample=1, tree_method=None,\n                validate_parameters=False, verbosity=None),\n   XGBRegressor(base_score=0.5, booster=None, colsample_bylevel=1,\n                colsample_bynode=1, colsample_bytree=1, gamma=0, gpu_id=-1,\n                importance_type='gain', interaction_constraints=None,\n                learning_rate=0.300000012, max_delta_step=0, max_depth=6,\n                min_child_weight=1, missing=nan, monotone_constraints=None,\n                n_estimators=100, n_jobs=0, num_parallel_tree=1,\n                objective='reg:squarederror', random_state=0, reg_alpha=0,\n                reg_lambda=1, scale_pos_weight=1, subsample=1, tree_method=None,\n                validate_parameters=False, verbosity=None),\n   XGBRegressor(base_score=0.5, booster=None, colsample_bylevel=1,\n                colsample_bynode=1, colsample_bytree=1, gamma=0, gpu_id=-1,\n                importance_type='gain', interaction_constraints=None,\n                learning_rate=0.300000012, max_delta_step=0, max_depth=6,\n                min_child_weight=1, missing=nan, monotone_constraints=None,\n                n_estimators=100, n_jobs=0, num_parallel_tree=1,\n                objective='reg:squarederror', random_state=0, reg_alpha=0,\n                reg_lambda=1, scale_pos_weight=1, subsample=1, tree_method=None,\n                validate_parameters=False, verbosity=None)),\n  'test_r2': array([0.9312268 , 0.91715542, 0.90418938, 0.90635122, 0.9083473 ]),\n  'train_r2': array([0.93114747, 0.93380966, 0.93652312, 0.9355494 , 0.93626371]),\n  'test_neg_mean_squared_error': array([ -7624.22677536,  -9193.07238217, -10091.47196912,  -9470.20689291,\n          -9332.62796724]),\n  'train_neg_mean_squared_error': array([-7219.16065342, -6937.59769707, -6744.07883663, -6914.48188293,\n         -6826.49205424])}]"
     },
     "execution_count": 14,
     "metadata": {},
     "output_type": "execute_result"
    }
   ],
   "source": [
    "socres"
   ]
  },
  {
   "cell_type": "code",
   "execution_count": null,
   "metadata": {},
   "outputs": [],
   "source": []
  }
 ]
}